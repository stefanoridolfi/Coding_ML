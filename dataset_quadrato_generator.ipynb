{
  "nbformat": 4,
  "nbformat_minor": 0,
  "metadata": {
    "colab": {
      "name": "Untitled29.ipynb",
      "provenance": [],
      "authorship_tag": "ABX9TyN4pjEKuNbV5NcyEiUzNpap",
      "include_colab_link": true
    },
    "kernelspec": {
      "name": "python3",
      "display_name": "Python 3"
    }
  },
  "cells": [
    {
      "cell_type": "markdown",
      "metadata": {
        "id": "view-in-github",
        "colab_type": "text"
      },
      "source": [
        "<a href=\"https://colab.research.google.com/github/stefanoridolfi/Coding_ML/blob/master/dataset_quadrato_generator.ipynb\" target=\"_parent\"><img src=\"https://colab.research.google.com/assets/colab-badge.svg\" alt=\"Open In Colab\"/></a>"
      ]
    },
    {
      "cell_type": "code",
      "metadata": {
        "id": "AMKvn79kyPMK",
        "colab_type": "code",
        "colab": {}
      },
      "source": [
        " \n",
        "from google.colab import files \n",
        "import random\n",
        "import csv\n",
        " # genera la retta di riferimento, com m=0.5 e q=10\n",
        " def f(x):\n",
        "   return 0.5*x + 10 # linea retta: f(x) = 0.5x + 10\n",
        "\n",
        "# Funzione che genera n punti casuali con x compresa fra -250 2 250\n",
        "def generaPunti(n):\n",
        "    l=[]\n",
        "    for i in range(0, n+1):\n",
        "        x = random.random()*500-250\n",
        "        y = random.random()*500-250\n",
        "        l.append([x,y])\n",
        "    return l\n",
        "\n",
        "punti=generaPunti(10000)\n",
        "file_punti=list()\n",
        "for p in punti:\n",
        "  if p[1]>=f(p[0]):\n",
        "    c=1\n",
        "  else:\n",
        "    c=-1\n",
        "  file_punti.append([p[0],p[1],c])\n",
        "#print(file_punti)\n",
        "\n",
        "with open('dataset_retta.csv', mode='w') as dataset_retta:\n",
        "  dataset_retta = csv.writer(dataset_retta, delimiter=',', quotechar='\"', quoting=csv.QUOTE_MINIMAL)\n",
        "  for elem in file_punti:\n",
        "    #print(\"1\",elem[0],elem[1],elem[2])\n",
        "    dataset_retta.writerow(['1',elem[0],elem[1],elem[2]])\n",
        "\n",
        "files.download('dataset_retta.csv')\n",
        "\n"
      ],
      "execution_count": 0,
      "outputs": []
    },
    {
      "cell_type": "code",
      "metadata": {
        "colab_type": "code",
        "id": "p2E4EKhCWEC5",
        "colab": {}
      },
      "source": [
        ""
      ],
      "execution_count": 0,
      "outputs": []
    }
  ]
}