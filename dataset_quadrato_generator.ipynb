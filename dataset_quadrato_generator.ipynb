{
  "nbformat": 4,
  "nbformat_minor": 0,
  "metadata": {
    "colab": {
      "name": "Untitled29.ipynb",
      "provenance": [],
      "authorship_tag": "ABX9TyMPid5xuyd6j363owbiFX4Z",
      "include_colab_link": true
    },
    "kernelspec": {
      "name": "python3",
      "display_name": "Python 3"
    }
  },
  "cells": [
    {
      "cell_type": "markdown",
      "metadata": {
        "id": "view-in-github",
        "colab_type": "text"
      },
      "source": [
        "<a href=\"https://colab.research.google.com/github/stefanoridolfi/Coding_ML/blob/master/dataset_quadrato_generator.ipynb\" target=\"_parent\"><img src=\"https://colab.research.google.com/assets/colab-badge.svg\" alt=\"Open In Colab\"/></a>"
      ]
    },
    {
      "cell_type": "code",
      "metadata": {
        "id": "AMKvn79kyPMK",
        "colab_type": "code",
        "colab": {}
      },
      "source": [
        " \n",
        "from google.colab import files \n",
        "import random\n",
        "import csv\n",
        " # genera punti con classificazione 1 se sono all'interno, 0 se sono all'esterno\n",
        " # il quadrato è delimitato da xa=-50 xb=50 ya=-50 yb=50, limiti non compresi, > e < \n",
        " \n",
        " \n",
        "\n",
        "# Funzione che genera n punti casuali con x compresa fra -250 e 250\n",
        "def generaPunti(n):\n",
        "    l=[]\n",
        "    for i in range(0, n+1):\n",
        "        x = random.random()*500-250\n",
        "        y = random.random()*500-250\n",
        "        l.append([x,y])\n",
        "    return l\n",
        "\n",
        "\n",
        "def posizione(punto,xa,xb,ya,yb):\n",
        "    if (punto[0]>xa and punto[0]<xb and punto[1]>ya and punto[1]<yb):\n",
        "      out=1\n",
        "    else:\n",
        "      out=0\n",
        "    return out\n",
        "\n",
        "punti=generaPunti(10000)\n",
        "xa=-50\n",
        "xb=50\n",
        "ya=-50\n",
        "yb=50\n",
        "file_punti=list()\n",
        "for elem in punti:\n",
        "  classe=posizione(elem,xa,xb,ya,yb)\n",
        "  file_punti.append([elem[0],elem[1],classe])\n",
        "\n",
        "\n",
        "with open('dataset_quadrato.csv', mode='w') as dataset_quadrato:\n",
        "  dataset_quadrato = csv.writer(dataset_quadrato, delimiter=',', quotechar='\"', quoting=csv.QUOTE_MINIMAL)\n",
        "  dataset_quadrato.writerow(['x','y','class'])\n",
        "  for elem in file_punti:\n",
        "    #print(\"1\",elem[0],elem[1],elem[2])\n",
        "    dataset_quadrato.writerow([elem[0],elem[1],elem[2]])\n",
        "\n",
        "files.download('dataset_quadrato.csv')\n",
        "\n"
      ],
      "execution_count": 0,
      "outputs": []
    },
    {
      "cell_type": "code",
      "metadata": {
        "colab_type": "code",
        "id": "p2E4EKhCWEC5",
        "colab": {}
      },
      "source": [
        ""
      ],
      "execution_count": 0,
      "outputs": []
    }
  ]
}