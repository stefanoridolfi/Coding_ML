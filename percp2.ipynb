{
  "nbformat": 4,
  "nbformat_minor": 0,
  "metadata": {
    "colab": {
      "name": "Untitled0.ipynb",
      "provenance": [],
      "collapsed_sections": [],
      "include_colab_link": true
    },
    "kernelspec": {
      "name": "python3",
      "display_name": "Python 3"
    }
  },
  "cells": [
    {
      "cell_type": "markdown",
      "metadata": {
        "id": "view-in-github",
        "colab_type": "text"
      },
      "source": [
        "<a href=\"https://colab.research.google.com/github/stefanoridolfi/Coding_ML/blob/master/percp2.ipynb\" target=\"_parent\"><img src=\"https://colab.research.google.com/assets/colab-badge.svg\" alt=\"Open In Colab\"/></a>"
      ]
    },
    {
      "cell_type": "code",
      "metadata": {
        "id": "AzZh6okNxYKu",
        "colab_type": "code",
        "colab": {}
      },
      "source": [
        " import matplotlib.pyplot as pl\n",
        " import random\n",
        " def f(x):\n",
        "        return 0.5*x + 10 # linea retta: f(x) = 0.5x + 10\n",
        "\n",
        "\n",
        "\n",
        "\n",
        " # Activation function\n",
        "def activate(num):\n",
        "  if num > 0:\n",
        "    return 1\n",
        "  else:\n",
        "   return -1        \n",
        "\n",
        "# genero pesi\n",
        "weights = []\n",
        "for x in range(0, 3):\n",
        "  weights.append(random.random()*2-1)\n",
        "\n",
        "n=100000\n",
        "it=30\n",
        "speed=0.01\n",
        "for i in range(0,it+1):\n",
        "            errTot = 0 # Il conteggio degli errori riparte da zero\n",
        "            for x in range(0, n ):\n",
        "                # Generiamo un punto a caso nel range di coordinate -250 +250 \n",
        "                x_coord = random.random()*500-250\n",
        "                y_coord = random.random()*500-250\n",
        "                inputs=[x_coord, y_coord, 1]\n",
        "                # Verifichiamo il reale posizionamento del punto rispetto alla retta\n",
        "                line_y = f(x_coord)\n",
        "                if y_coord > line_y: # Il punto è sopra la linea: valore atteso = 1\n",
        "                    desired_output = 1\n",
        "                else: # Il punto è sopra la linea: valore atteso = -1\n",
        "                    desired_output = -1\n",
        "                # Chiamiamo la funzione di back propagation e incrementiamo il conteggio errori\n",
        "                sum = 0\n",
        "                for x in range(0, len(weights)):\n",
        "                  sum += weights[x] * inputs[x]\n",
        "        \n",
        "                guess = activate(sum)   # Calcolo il valore di output relativo agli input forniti\n",
        "                error = desired_output - guess      # Calcolo l'errore come differenza tra valore in output e valore atteso\n",
        "                # La correzione dei pesi avviene secondo la formula\n",
        "                # peso = peso + errore*valore_input*learn_speed\n",
        "                # se l'errore è pari a zero la formula non altera il valore del peso\n",
        "                for x in range(0, len(weights)):\n",
        "                  weights[x] += error*inputs[x]*speed\n",
        "                #print(\"Addestramento in corso, m, q  :\",-self.weights[0]/self.weights[1],-self.weights[2]/self.weights[1] )\n",
        "                # Restituiamo 0 se la previsione è stata corretta, 1 altrimenti\n",
        "                # questo dato servirà più avanti per conteggiare gli errori durante il processo di apprendimento\n",
        "                if error != 0:\n",
        "                   errTot+=1\n",
        "                \n",
        "            # Al termine del sottociclo di punti visualizziamo il valore del contatore errori\n",
        "            print(\"Iterazione:\",i,\"Errori:\",errTot)\n",
        "print(\"Parametri, m, q  :\",-weights[0]/weights[1],-weights[2]/weights[1])"
      ],
      "execution_count": 0,
      "outputs": []
    }
  ]
}