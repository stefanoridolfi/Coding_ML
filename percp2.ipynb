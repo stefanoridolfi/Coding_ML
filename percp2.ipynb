{
  "nbformat": 4,
  "nbformat_minor": 0,
  "metadata": {
    "colab": {
      "name": "Untitled0.ipynb",
      "provenance": [],
      "collapsed_sections": [],
      "include_colab_link": true
    },
    "kernelspec": {
      "name": "python3",
      "display_name": "Python 3"
    }
  },
  "cells": [
    {
      "cell_type": "markdown",
      "metadata": {
        "id": "view-in-github",
        "colab_type": "text"
      },
      "source": [
        "<a href=\"https://colab.research.google.com/github/stefanoridolfi/Coding_ML/blob/master/percp2.ipynb\" target=\"_parent\"><img src=\"https://colab.research.google.com/assets/colab-badge.svg\" alt=\"Open In Colab\"/></a>"
      ]
    },
    {
      "cell_type": "code",
      "metadata": {
        "id": "AzZh6okNxYKu",
        "colab_type": "code",
        "colab": {
          "base_uri": "https://localhost:8080/",
          "height": 868
        },
        "outputId": "bc70a4f0-fa34-4eb3-cf3f-b00622dde71b"
      },
      "source": [
        " import matplotlib.pyplot as pl\n",
        " import random\n",
        " # genera la retta di riferimento, com m=0.5 e q=10\n",
        " def f(x):\n",
        "   return 0.5*x + 10 # linea retta: f(x) = 0.5x + 10\n",
        "\n",
        "\n",
        "\n",
        " # Activation function\n",
        "def activate(num):\n",
        "  if num > 0:\n",
        "    return 1\n",
        "  else:\n",
        "   return -1        \n",
        "\n",
        "# genero pesi\n",
        "weights = []\n",
        "for x in range(0, 3):\n",
        "  weights.append(random.random()*2-1)\n",
        "\n",
        "n=100000\n",
        "it=30\n",
        "speed=0.01\n",
        "for i in range(0,it+1):\n",
        "            errTot = 0 # Il conteggio degli errori riparte da zero\n",
        "            for x in range(0, n ):\n",
        "                # Generiamo un punto a caso nel range di coordinate -250 +250 \n",
        "                x_coord = random.random()*500-250\n",
        "                y_coord = random.random()*500-250\n",
        "                inputs=[x_coord, y_coord, 1]\n",
        "                # Verifichiamo il reale posizionamento del punto rispetto alla retta\n",
        "                line_y = f(x_coord)\n",
        "                if y_coord > line_y: # Il punto è sopra la linea: valore atteso = 1\n",
        "                    desired_output = 1\n",
        "                else: # Il punto è sopra la linea: valore atteso = -1\n",
        "                    desired_output = -1\n",
        "                # Chiamiamo la funzione di back propagation e incrementiamo il conteggio errori\n",
        "                sum = 0\n",
        "                for x in range(0, len(weights)):\n",
        "                  sum += weights[x] * inputs[x]\n",
        "        \n",
        "                guess = activate(sum)   # Calcolo il valore di output relativo agli input forniti\n",
        "                error = desired_output - guess      # Calcolo l'errore come differenza tra valore in output e valore atteso\n",
        "                # La correzione dei pesi avviene secondo la formula\n",
        "                # peso = peso + errore*valore_input*learn_speed\n",
        "                # se l'errore è pari a zero la formula non altera il valore del peso\n",
        "                for x in range(0, len(weights)):\n",
        "                  weights[x] += error*inputs[x]*speed\n",
        "                #print(\"Addestramento in corso, m, q  :\",-self.weights[0]/self.weights[1],-self.weights[2]/self.weights[1] )\n",
        "                # Restituiamo 0 se la previsione è stata corretta, 1 altrimenti\n",
        "                # questo dato servirà più avanti per conteggiare gli errori durante il processo di apprendimento\n",
        "                if error != 0:\n",
        "                   errTot+=1\n",
        "                \n",
        "            # Al termine del sottociclo di punti visualizziamo il valore del contatore errori\n",
        "            print(\"Iterazione:\",i,\"Errori:\",errTot)\n",
        "print(\"Parametri a, b , c della retta :\",weights[0], weights[1], weights[2])\n",
        "print(\"Parametri corretti: m=0.5  q=10\\nParametri ottenuti:\",-weights[0]/weights[1],-weights[2]/weights[1])\n",
        "\n",
        "\n",
        "# Disegno la retta corretta \n",
        "import matplotlib.pyplot as pl\n",
        "lx=[]\n",
        "ly=[]\n",
        "for x in range(-250,251):\n",
        "  y=f(x)\n",
        "  lx.append(x)\n",
        "  ly.append(y)\n",
        "pl.plot(lx,ly)\n",
        "\n",
        "\n",
        "\n",
        "# disegno la retta i cui coefficienti sono i pesi + il BIAS\n",
        "import matplotlib.pyplot as pl\n",
        "llx=[]\n",
        "lly=[]\n",
        "for x in range(-250,251):\n",
        "  y=(-weights[0]/weights[1])*x -(weights[2]/weights[1])\n",
        "  llx.append(x)\n",
        "  lly.append(y)\n",
        "pl.plot(llx,lly)\n",
        "pl.grid(True)\n",
        "pl.show()"
      ],
      "execution_count": 27,
      "outputs": [
        {
          "output_type": "stream",
          "text": [
            "Iterazione: 0 Errori: 2312\n",
            "Iterazione: 1 Errori: 2143\n",
            "Iterazione: 2 Errori: 1977\n",
            "Iterazione: 3 Errori: 1741\n",
            "Iterazione: 4 Errori: 1662\n",
            "Iterazione: 5 Errori: 1622\n",
            "Iterazione: 6 Errori: 1456\n",
            "Iterazione: 7 Errori: 1397\n",
            "Iterazione: 8 Errori: 1254\n",
            "Iterazione: 9 Errori: 1270\n",
            "Iterazione: 10 Errori: 1244\n",
            "Iterazione: 11 Errori: 1150\n",
            "Iterazione: 12 Errori: 1192\n",
            "Iterazione: 13 Errori: 1117\n",
            "Iterazione: 14 Errori: 1100\n",
            "Iterazione: 15 Errori: 1086\n",
            "Iterazione: 16 Errori: 1003\n",
            "Iterazione: 17 Errori: 866\n",
            "Iterazione: 18 Errori: 1018\n",
            "Iterazione: 19 Errori: 922\n",
            "Iterazione: 20 Errori: 853\n",
            "Iterazione: 21 Errori: 896\n",
            "Iterazione: 22 Errori: 791\n",
            "Iterazione: 23 Errori: 837\n",
            "Iterazione: 24 Errori: 811\n",
            "Iterazione: 25 Errori: 837\n",
            "Iterazione: 26 Errori: 821\n",
            "Iterazione: 27 Errori: 722\n",
            "Iterazione: 28 Errori: 720\n",
            "Iterazione: 29 Errori: 891\n",
            "Iterazione: 30 Errori: 740\n",
            "Parametri a, b , c della retta : -24.596239646009643 50.2082766359102 -421.7999293178099\n",
            "Parametri corretti: m=0.5  q=10\n",
            "Parametri ottenuti: 0.4898841644052328 8.401003929621599\n"
          ],
          "name": "stdout"
        },
        {
          "output_type": "display_data",
          "data": {
            "image/png": "[encoded data removed]",
            "text/plain": [
              "<Figure size 432x288 with 1 Axes>"
            ]
          },
          "metadata": {
            "tags": []
          }
        }
      ]
    }
  ]
}