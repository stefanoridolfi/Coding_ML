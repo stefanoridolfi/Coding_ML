{
  "nbformat": 4,
  "nbformat_minor": 0,
  "metadata": {
    "colab": {
      "name": "Untitled1.ipynb",
      "provenance": [],
      "include_colab_link": true
    },
    "kernelspec": {
      "name": "python3",
      "display_name": "Python 3"
    }
  },
  "cells": [
    {
      "cell_type": "markdown",
      "metadata": {
        "id": "view-in-github",
        "colab_type": "text"
      },
      "source": [
        "<a href=\"https://colab.research.google.com/github/stefanoridolfi/Coding_ML/blob/master/vettori_prodotto.ipynb\" target=\"_parent\"><img src=\"https://colab.research.google.com/assets/colab-badge.svg\" alt=\"Open In Colab\"/></a>"
      ]
    },
    {
      "cell_type": "markdown",
      "metadata": {
        "colab_type": "text",
        "id": "_4hkpAvTzojH"
      },
      "source": [
        "tmp = output_errors * output_vector_network * (1.0 - output_vector_network)  = [[-0.12240776  0.12259739]] output_errors= [[-0.48963132  0.49038987]] output_vector_network= [[0.49963132 0.49961013]] 1.0 - output_vector_network= [[0.50036868 0.50038987]] FFFF"
      ]
    },
    {
      "cell_type": "code",
      "metadata": {
        "colab_type": "code",
        "id": "L-HUntkEzmR_",
        "colab": {
          "base_uri": "https://localhost:8080/",
          "height": 158
        },
        "outputId": "8662caca-8885-486a-f50c-8d5a363228e4"
      },
      "source": [
        "import numpy as np\n",
        "a= [[1, 2], [3, 4]]\n",
        "b= [[2, 2], [1, 1]]\n",
        "a=np.array(a,ndmin=2)\n",
        "b=np.array(b,ndmin=2)\n",
        "adotb=np.dot(a,b)\n",
        "print(\"a=\",a)\n",
        "print(\"b=\",b)\n",
        "print(\"a_dot_b=\",adotb)\n",
        "avettb=a*b\n",
        "print(\"prodotto vettoriale\",avettb)"
      ],
      "execution_count": 46,
      "outputs": [
        {
          "output_type": "stream",
          "text": [
            "a= [[1 2]\n",
            " [3 4]]\n",
            "b= [[2 2]\n",
            " [1 1]]\n",
            "a_dot_b= [[ 4  4]\n",
            " [10 10]]\n",
            "prodotto vettoriale [[2 4]\n",
            " [3 4]]\n"
          ],
          "name": "stdout"
        }
      ]
    },
    {
      "cell_type": "code",
      "metadata": {
        "colab_type": "code",
        "id": "BDx1SPqIzkd4",
        "colab": {}
      },
      "source": [
        ""
      ],
      "execution_count": 0,
      "outputs": []
    }
  ]
}