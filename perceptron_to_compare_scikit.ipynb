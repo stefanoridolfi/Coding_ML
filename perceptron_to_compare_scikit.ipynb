{
  "nbformat": 4,
  "nbformat_minor": 0,
  "metadata": {
    "colab": {
      "name": "Untitled0.ipynb",
      "provenance": [],
      "collapsed_sections": [],
      "include_colab_link": true
    },
    "kernelspec": {
      "name": "python3",
      "display_name": "Python 3"
    }
  },
  "cells": [
    {
      "cell_type": "markdown",
      "metadata": {
        "id": "view-in-github",
        "colab_type": "text"
      },
      "source": [
        "<a href=\"https://colab.research.google.com/github/stefanoridolfi/Coding_ML/blob/master/perceptron_to_compare_scikit.ipynb\" target=\"_parent\"><img src=\"https://colab.research.google.com/assets/colab-badge.svg\" alt=\"Open In Colab\"/></a>"
      ]
    },
    {
      "cell_type": "code",
      "metadata": {
        "id": "AzZh6okNxYKu",
        "colab_type": "code",
        "outputId": "4f6cc880-c255-4e57-be4c-fcd2d6c011ab",
        "colab": {
          "base_uri": "https://localhost:8080/",
          "height": 71
        }
      },
      "source": [
        " import matplotlib.pyplot as pl\n",
        " import random\n",
        " import pandas as pd\n",
        " from random import seed\n",
        " from random import randrange\n",
        " from csv import reader\n",
        " from math import sqrt,exp\n",
        "\n",
        "\n",
        " \n",
        "def load_csv(filename_url):\n",
        "  CSV_url=filename_url\n",
        "  pdfile=pd.read_csv(CSV_url, nrows=50)\n",
        "  #pdfile=pd.read_csv(CSV_url,header=None)\n",
        "  dataset=pdfile.values.tolist()\n",
        "  return dataset\n",
        "\n",
        " # Activation function\n",
        "def activate(num):\n",
        "  if num > 0:\n",
        "    return 1\n",
        "  else:\n",
        "   return -1        \n",
        "\n",
        "# genero pesi\n",
        "weights = []\n",
        "weights_start = []\n",
        "for x in range(0, 3):\n",
        "  weights.append(random.random()*2-1)\n",
        "  weights_start.append(weights[x])\n",
        "\n",
        "\n",
        "# Addestranento \n",
        "CSV_url='https://raw.githubusercontent.com/dataoptimal/posts/master/algorithms%20from%20scratch/dataset.csv'\n",
        "dataset= load_csv(CSV_url)\n",
        "print(\"dataset=\",dataset)\n",
        "it=100\n",
        "speed=0.01\n",
        "\n",
        "\n",
        "'''\n",
        "for i in range(0,it+1):\n",
        "            errTot = 0 # Il conteggio degli errori riparte da zero\n",
        "            for x in range(0, n ):\n",
        "                \n",
        "                x_coord = #mettere coordinata X del punto è in seconda posizione della lista \n",
        "                y_coord = #mettere coordinata Y del punto è in terzaposizione della lista \n",
        "                inputs=[1, x_coord, y_coord]\n",
        "                # Verifichiamo il reale posizionamento del punto rispetto alla retta\n",
        "                line_y =# classe di apparteneza del punto\n",
        "                desired_output= # classe di apparteneza del punto,mettere valore in quarta posizione della lista\n",
        "                # Chiamiamo la funzione di back propagation e incrementiamo il conteggio errori\n",
        "                sum = 0\n",
        "                for x in range(0, len(weights)):\n",
        "                  sum += weights[x] * inputs[x]\n",
        "        \n",
        "                guess = activate(sum)   # Calcolo il valore di output relativo agli input forniti\n",
        "                error = desired_output - guess      # Calcolo l'errore come differenza tra valore in output e valore atteso\n",
        "                # La correzione dei pesi avviene secondo la formula\n",
        "                # peso = peso + errore*valore_input*learn_speed\n",
        "                # se l'errore è pari a zero la formula non altera il valore del peso\n",
        "                for x in range(0, len(weights)):\n",
        "                  weights[x] += error*inputs[x]*speed\n",
        "                #print(\"Addestramento in corso, m, q  :\",-self.weights[0]/self.weights[1],-self.weights[2]/self.weights[1] )\n",
        "                # Restituiamo 0 se la previsione è stata corretta, 1 altrimenti\n",
        "                # questo dato servirà più avanti per conteggiare gli errori durante il processo di apprendimento\n",
        "                if error != 0:\n",
        "                   errTot+=1\n",
        "            print(\"epoca\", i, \"Errori=\",errTot)\n",
        "                \n",
        "            # Al termine del sottociclo di punti visualizziamo il valore del contatore errori\n",
        "            #print(\"Iterazione:\",i,\"Errori:\",errTot)\n",
        "print(\"Errori %=\",(errTot/n)*100)\n",
        "print(\"\\n\\nParametri iniziali a, b , c della retta (ovvero i pesi generati casualmennte) :\",weights_start )\n",
        "print(\"Parametri finali a, b , c della retta :\",weights[0], weights[1], weights[2])\n",
        "\n",
        "'''\n",
        "\n"
      ],
      "execution_count": 6,
      "outputs": [
        {
          "output_type": "stream",
          "text": [
            "dataset= [[1.0, -0.383362085, -0.487992406, 0.0], [1.0, -2.360334873, -2.440053463, 0.0], [1.0, -0.35844329, 0.141981184, 0.0], [1.0, 0.991341054, 0.8042491079999999, 0.0], [1.0, -0.133086324, -0.237400368, 0.0], [1.0, 1.2101545329999999, 1.145366907, 0.0], [1.0, 0.25889796, 0.449732423, 0.0], [1.0, 1.754554987, 1.53313899, 0.0], [1.0, -1.430577397, -0.8432376979999999, 0.0], [1.0, 1.390210867, 1.5941295619999998, 0.0], [1.0, 1.10375309, 0.8327923420000001, 0.0], [1.0, 0.927716076, 0.794107318, 0.0], [1.0, -1.096549153, -0.871261775, 0.0], [1.0, -0.0009557669999999999, -0.115844756, 0.0], [1.0, 0.013501601, -0.019996546, 0.0], [1.0, -0.683217168, -0.88293767, 0.0], [1.0, 0.022097174, -0.009863211, 0.0], [1.0, 0.012245388999999999, 0.09105493099999999, 0.0], [1.0, -0.406231791, 0.01588439, 0.0], [1.0, -0.161117151, 0.332682729, 0.0], [1.0, 0.377541631, 0.22646969600000003, 0.0], [1.0, -0.155670747, -0.043271232, 0.0], [1.0, -0.470498264, -0.061943572, 0.0], [1.0, -1.203188896, -1.0468331579999999, 0.0], [1.0, 0.34801396700000004, 0.316196918, 0.0], [1.0, -1.430602074, -1.3606353999999998, 0.0], [1.0, 1.40331459, 1.185254931, 0.0], [1.0, 0.388069063, 0.7524281740000001, 0.0], [1.0, -0.251538306, 0.463170201, 0.0], [1.0, -0.668093443, -0.628626108, 0.0], [1.0, 0.276508093, 0.5839381810000001, 0.0], [1.0, 0.36798855700000005, 0.10737785, 0.0], [1.0, -0.563003361, -0.5589688420000001, 0.0], [1.0, -1.1624672409999999, -1.185739517, 0.0], [1.0, 2.698905945, 2.9485254289999996, 0.0], [1.0, 1.610821843, 2.097419262, 0.0], [1.0, -1.730934024, -1.865973115, 0.0], [1.0, 1.3709478380000002, 0.929154217, 0.0], [1.0, -0.829719722, -0.8936350940000001, 0.0], [1.0, 0.629321098, 0.552345037, 0.0], [1.0, -2.117095709, -2.007390261, 0.0], [1.0, -0.859186232, -0.6135064960000001, 0.0], [1.0, -1.173424721, -0.837795913, 0.0], [1.0, 0.735553563, 0.667505205, 0.0], [1.0, 0.8636354209999999, 0.638745844, 0.0], [1.0, -1.0478140120000001, -1.206483126, 0.0], [1.0, 0.187701166, -0.031389758, 0.0], [1.0, 0.46130693, 0.71056968, 0.0], [1.0, 0.516056776, 0.363596976, 0.0], [1.0, -0.56648314, -0.408215135, 0.0]]\n"
          ],
          "name": "stdout"
        },
        {
          "output_type": "execute_result",
          "data": {
            "text/plain": [
              "'\\nfor i in range(0,it+1):\\n           errTot = 0 # Il conteggio degli errori riparte da zero\\n           for x in range(0, n ):\\n               \\n               x_coord = #mettere coordinata X del punto è in seconda posizione della lista \\n               y_coord = #mettere coordinata Y del punto è in terzaposizione della lista \\n               inputs=[1, x_coord, y_coord]\\n               # Verifichiamo il reale posizionamento del punto rispetto alla retta\\n               line_y =# classe di apparteneza del punto\\n               desired_output= # classe di apparteneza del punto,mettere valore in quarta posizione della lista\\n               # Chiamiamo la funzione di back propagation e incrementiamo il conteggio errori\\n               sum = 0\\n               for x in range(0, len(weights)):\\n                 sum += weights[x] * inputs[x]\\n       \\n               guess = activate(sum)   # Calcolo il valore di output relativo agli input forniti\\n               error = desired_output - guess      # Calcolo l\\'errore come differenza tra valore in output e valore atteso\\n               # La correzione dei pesi avviene secondo la formula\\n               # peso = peso + errore*valore_input*learn_speed\\n               # se l\\'errore è pari a zero la formula non altera il valore del peso\\n               for x in range(0, len(weights)):\\n                 weights[x] += error*inputs[x]*speed\\n               #print(\"Addestramento in corso, m, q  :\",-self.weights[0]/self.weights[1],-self.weights[2]/self.weights[1] )\\n               # Restituiamo 0 se la previsione è stata corretta, 1 altrimenti\\n               # questo dato servirà più avanti per conteggiare gli errori durante il processo di apprendimento\\n               if error != 0:\\n                  errTot+=1\\n           print(\"epoca\", i, \"Errori=\",errTot)\\n               \\n           # Al termine del sottociclo di punti visualizziamo il valore del contatore errori\\n           #print(\"Iterazione:\",i,\"Errori:\",errTot)\\nprint(\"Errori %=\",(errTot/n)*100)\\nprint(\"\\n\\nParametri iniziali a, b , c della retta (ovvero i pesi generati casualmennte) :\",weights_start )\\nprint(\"Parametri finali a, b , c della retta :\",weights[0], weights[1], weights[2])\\n\\n'"
            ]
          },
          "metadata": {
            "tags": []
          },
          "execution_count": 6
        }
      ]
    }
  ]
}