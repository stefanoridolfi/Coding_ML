{
  "nbformat": 4,
  "nbformat_minor": 0,
  "metadata": {
    "colab": {
      "name": "Untitled2.ipynb",
      "provenance": [],
      "include_colab_link": true
    },
    "kernelspec": {
      "name": "python3",
      "display_name": "Python 3"
    }
  },
  "cells": [
    {
      "cell_type": "markdown",
      "metadata": {
        "id": "view-in-github",
        "colab_type": "text"
      },
      "source": [
        "<a href=\"https://colab.research.google.com/github/stefanoridolfi/Coding_ML/blob/master/quadrato.ipynb\" target=\"_parent\"><img src=\"https://colab.research.google.com/assets/colab-badge.svg\" alt=\"Open In Colab\"/></a>"
      ]
    },
    {
      "cell_type": "code",
      "metadata": {
        "id": "mZXYFyMv3AIO",
        "colab_type": "code",
        "colab": {}
      },
      "source": [
        "import matplotlib.pyplot as plt\n",
        "import random\n",
        "import numpy as np\n",
        "def generaPunti(n):\n",
        "    l=[]\n",
        "    for i in range(0, n+1):\n",
        "        x = random.random()*300-150\n",
        "        y = random.random()*300-150\n",
        "        l.append([x,y])\n",
        "    return l\n",
        "def posizione(punto,x1,x2,y1,y2):\n",
        "    if (punto[0]>x1 and punto[0]<x2 and punto[1]>y1 and punto[1]<y2):\n",
        "      formato = 'ro'\n",
        "      out=1\n",
        "    else:\n",
        "      formato = 'go'\n",
        "      out=0\n",
        "    return out,formato\n",
        "\n",
        "def sigmoid(x):\n",
        "    return 1 / (1 + np.e ** -x)\n",
        "activation_function = sigmoid\n",
        "\n",
        "'''\n",
        "Creo matrice dei pesi. Input sono 3, x1,x2 e x3 che è BIAS. Il vettore X ha dimensioni 1x3. Lo strato hidden è composto da 4 uscite, y1,y2,y3 e y4 ed è rappresentato dal vettore Y di dimensioni 4x1\n",
        "Il vettore Y, di dimensioni 4x1 è il risultato del prodotto Wih.dot.X La matrice Wih ha dimensioni 4x3. Y=Wih.dot.X (4x1=4x3.dot.3x1)\n",
        "L'output Z ha dimensioni 1. La matrice dei pesi da Y a Z,matrice Who,  ha dimensione 1x4. L'output Z ha dimensioni 1x1. Per questo Z=Who.dot.Y (1x1=1x4.dot.4x1)  \n",
        "'''\n",
        "#Creo punti Input per training. Per ogni punto aggiungo un campo che vale 1 se il punto è nel quadrato, 0 se è fuori. Nle disegno 1 è punto rosso 0 è punto verde\n",
        "# defnisco contorni del quadrato\n",
        "x1=-50\n",
        "x2=50\n",
        "y1=-50\n",
        "y2=50\n",
        "\n",
        "\n",
        "for punto in ListaPunti:\n",
        "  posizione((punto,x1,x2,y1,y2))[0])\n",
        "  append.ListaPunti(posizione(punto,x1,x2,y1,y2)[0]))\n",
        "\n",
        "# Creo la matrice Wih, 4x3, i cui elementi sono i pesi. I pesi hanno un valore uniformenente distrubuito da -1 a 1\n",
        "Wih=2*np.random.random((4,3))-1\n",
        "Who=2*np.random.random((1,4))-1\n",
        "# per vedere le dimensioni di un array in comando è :array.shape, esempio Wih.shape\n",
        "# Inizializzo i valori dell'input con una lista. X=(x1,x2,x3). \n",
        "X=(1,2,1)\n",
        "# lo devo trasformare in un array altrimenti non posso fare operazioni vettoriali\n",
        "X=np.array(X)\n",
        "#calcolo Y=Wih.dot.X\n",
        "Y=np.dot(Wih,X)\n",
        "# Y ha dimensione 4x1\n",
        "# Calcolo Z=Who.dot.Y.T\n",
        "Z=np.dot(Who,Y)\n",
        "\n",
        "\n",
        "\n",
        "\n",
        "for punto in ListaPunti:\n",
        "  plt.plot(punto[0],punto[1],posizione(punto,x1,x2,y1,y2)[1])\n",
        "plt.show()\n",
        "\n"
      ],
      "execution_count": 0,
      "outputs": []
    }
  ]
}