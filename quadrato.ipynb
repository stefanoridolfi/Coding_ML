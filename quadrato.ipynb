{
  "nbformat": 4,
  "nbformat_minor": 0,
  "metadata": {
    "colab": {
      "name": "Untitled2.ipynb",
      "provenance": [],
      "include_colab_link": true
    },
    "kernelspec": {
      "name": "python3",
      "display_name": "Python 3"
    }
  },
  "cells": [
    {
      "cell_type": "markdown",
      "metadata": {
        "id": "view-in-github",
        "colab_type": "text"
      },
      "source": [
        "<a href=\"https://colab.research.google.com/github/stefanoridolfi/Coding_ML/blob/master/quadrato.ipynb\" target=\"_parent\"><img src=\"https://colab.research.google.com/assets/colab-badge.svg\" alt=\"Open In Colab\"/></a>"
      ]
    },
    {
      "cell_type": "code",
      "metadata": {
        "id": "mZXYFyMv3AIO",
        "colab_type": "code",
        "outputId": "9b119889-4c96-4ee9-f115-c65b7bde2894",
        "colab": {
          "base_uri": "https://localhost:8080/",
          "height": 1000
        }
      },
      "source": [
        "import matplotlib.pyplot as plt\n",
        "import random\n",
        "import numpy as np\n",
        "@np.vectorize\n",
        "def generaPunti(n):\n",
        "    l=[]\n",
        "    for i in range(0, n+1):\n",
        "        x = random.random()*300-150\n",
        "        y = random.random()*300-150\n",
        "        l.append([x,y])\n",
        "    return l\n",
        "def posizione(punto,xa,xb,ya,yb):\n",
        "    if (punto[0]>xa and punto[0]<xb and punto[1]>ya and punto[1]<yb):\n",
        "      formato = 'ro'\n",
        "      out=1\n",
        "    else:\n",
        "      formato = 'go'\n",
        "      out=0\n",
        "    return out,formato\n",
        "\n",
        "def sigmoid(x):\n",
        "    return 1 / (1 + np.e ** -x)\n",
        "activation_function = sigmoid\n",
        "\n",
        "'''\n",
        "Creo matrice dei pesi. Input sono 3, x1,x2 e x3 che è BIAS. Il vettore X ha dimensioni 1x3. Lo strato hidden è composto da 4 uscite, y1,y2,y3 e y4 ed è rappresentato dal vettore Y di dimensioni 4x1\n",
        "Il vettore Y, di dimensioni 4x1 è il risultato del prodotto Wih.dot.X La matrice Wih ha dimensioni 4x3. Y=Wih.dot.X (4x1=4x3.dot.3x1)\n",
        "L'output Z ha dimensioni 1. La matrice dei pesi da Y a Z,matrice Who,  ha dimensione 1x4. L'output Z ha dimensioni 1x1. Per questo Z=Who.dot.Y (1x1=1x4.dot.4x1)  \n",
        "'''\n",
        "#Creo punti Input per training. Per ogni punto aggiungo un campo che vale 1 se il punto è nel quadrato, 0 se è fuori. Nel disegno 1 è punto rosso 0 è punto verde\n",
        "# defnisco contorni del quadrato\n",
        "xa=-50\n",
        "xb=50\n",
        "ya=-50\n",
        "yb=50\n",
        "learning_rate=0.3\n",
        "n=50\n",
        "training_set=[]\n",
        "ListaPunti= generaPunti(n)\n",
        "for punto in ListaPunti:\n",
        "   training_set.append([punto[0],punto[1],posizione(punto,xa,xb,ya,yb)[0]])\n",
        "   \n",
        "#print(training_set)\n",
        "# Creo la matrice Wih, 4x3, i cui elementi sono i pesi. I pesi hanno un valore uniformenente distrubuito da -2 a 2\n",
        "Wih=4*np.random.random((4,3))-2\n",
        "Who=4*np.random.random((1,4))-2\n",
        "# per vedere le dimensioni di un array in comando è :array.shape, esempio Wih.shape\n",
        "# Inizializzo i valori dell'input con una lista. X=(x1,x2,x3).\n",
        "\n",
        "###############TRAINING################################ \n",
        "for punto in training_set:\n",
        "  X=(punto[0],punto[1],1)\n",
        "# lo devo trasformare in un array altrimenti non posso fare operazioni vettoriali\n",
        "  X=np.array(X)\n",
        "  X=X.reshape(3,1)\n",
        " \n",
        "#calcolo Y=Wih.dot.X\n",
        "  Y=np.dot(Wih,X)\n",
        " \n",
        "#calcolo Y_act che è il vettore Y a cui ho applicato la funzione di attivazione\n",
        "  Y_act=activation_function(Y)\n",
        "  \n",
        "# Y ha dimensione 4x1\n",
        "# Calcolo Z=Who.dot.Y.T\n",
        "  Z=np.dot(Who,Y)\n",
        "#calcolo Z_act che è il vettore Z a cui ho applicato la funzione di attivazione\n",
        "  Z_act=activation_function(Z)\n",
        " \n",
        "  #print(\"Z_act= \", Z_act, \"pos_reale=\", punto[2])\n",
        "#calcolo l'errore finale E=valore_corretto - Z_act . Il valore corretto è la terza colonna dei punti di training, ovvero training_set[2]\n",
        "  output_error=punto[2]-Z_act\n",
        " # print(\"Errore= \",output_error)\n",
        "#Calcolo il delta da sommare al corrente valore di Y_act: moltiplicazione di learning_rate*output_errore*derivata_sigmoide in Z*valore del vettore Y_act \n",
        "# la derivata della sigmoide calcolata nel punto Z_act è: Z_act(1-Z_act)!!\n",
        "  tmp=learning_rate*output_error\n",
        "  tmp=tmp.reshape(1,1)\n",
        "  uno_Z_act=(1-Z_act)\n",
        "  Z_act_deri=np.dot(Z_act, (1-Z_act))\n",
        "\n",
        "  Delta_Who_a=tmp*Z_act_deri*Z_act_deri\n",
        "  Delta_Who=np.dot(Y_act,Delta_Who_a)\n",
        "  #lo potevo anche calcolare così: Delta_Who_1=Y_act*Delta_Who_a\n",
        "  #aggiorno matrice dei pesi Who\n",
        "  Who=Who+Delta_Who.T\n",
        "  \n",
        "  #print(\"dim tmp=\",tmp.shape,\",dim Z_act=\", Z_act.shape,\",dim (1-Z_act)=\",uno_Z_act.shape, \",dim Z_act_deri=\",Z_act_deri.shape,\",dim Delta_Who=\",Delta_Who.shape)\n",
        "  #print(\"Z_act=\", Z_act,\",(1-Z_act)=\",uno_Z_act, \",Z_act_deri=\",Z_act_deri,\",Delta_Who=\",Delta_Who)\n",
        "  print(\"Who=\", Who)\n",
        "\n",
        "for punto in ListaPunti:\n",
        "  plt.plot(punto[0],punto[1],posizione(punto,xa,xb,ya,yb)[1])\n",
        "plt.show()\n",
        "print(out)\n"
      ],
      "execution_count": 173,
      "outputs": [
        {
          "output_type": "stream",
          "text": [
            "Who= [[ 1.61669224 -0.50315082 -0.74353822  1.57038657]]\n",
            "Who= [[ 1.61669224 -0.50315082 -0.74353822  1.57038657]]\n",
            "Who= [[ 1.61669224 -0.50315082 -0.74353822  1.57038657]]\n",
            "Who= [[ 1.61669224 -0.50315082 -0.74353822  1.57038657]]\n",
            "Who= [[ 1.61669224 -0.50315082 -0.74353822  1.57038657]]\n",
            "Who= [[ 1.61669224 -0.50315082 -0.74353822  1.57038657]]\n",
            "Who= [[ 1.61669224 -0.50315082 -0.74353822  1.57038657]]\n",
            "Who= [[ 1.61669224 -0.50315082 -0.74353822  1.57038657]]\n",
            "Who= [[ 1.61669224 -0.50315082 -0.74353822  1.57038657]]\n",
            "Who= [[ 1.61669224 -0.50315082 -0.74353822  1.57038657]]\n",
            "Who= [[ 1.61669224 -0.50315082 -0.74353822  1.57038657]]\n",
            "Who= [[ 1.61669224 -0.50315082 -0.74353822  1.57038657]]\n",
            "Who= [[ 1.61669224 -0.50315082 -0.74353822  1.57038657]]\n",
            "Who= [[ 1.61669224 -0.50315082 -0.74353822  1.57038657]]\n",
            "Who= [[ 1.61669224 -0.50315082 -0.74353822  1.57038657]]\n",
            "Who= [[ 1.61669224 -0.50315082 -0.74353822  1.57038657]]\n",
            "Who= [[ 1.61669224 -0.50315082 -0.74353822  1.57038657]]\n",
            "Who= [[ 1.61669224 -0.50315082 -0.74353822  1.57038657]]\n",
            "Who= [[ 1.61669224 -0.50315082 -0.74353822  1.57038657]]\n",
            "Who= [[ 1.61669224 -0.50315082 -0.74353822  1.57038657]]\n",
            "Who= [[ 1.61669224 -0.50315082 -0.74353822  1.57038657]]\n",
            "Who= [[ 1.61669224 -0.50315082 -0.74353822  1.57038657]]\n",
            "Who= [[ 1.61669224 -0.50315082 -0.74353822  1.57038657]]\n",
            "Who= [[ 1.61669224 -0.50315082 -0.74353822  1.57038657]]\n",
            "Who= [[ 1.61669224 -0.50315082 -0.74353822  1.57038657]]\n",
            "Who= [[ 1.61668551 -0.50315082 -0.74354496  1.57038657]]\n",
            "Who= [[ 1.61668551 -0.50315082 -0.74354496  1.57038657]]\n",
            "Who= [[ 1.61668551 -0.50315082 -0.74354496  1.57038657]]\n",
            "Who= [[ 1.61668551 -0.50315082 -0.74354496  1.57038657]]\n",
            "Who= [[ 1.61668551 -0.50315082 -0.74354496  1.57038657]]\n",
            "Who= [[ 1.61668551 -0.50315082 -0.74354496  1.57038657]]\n",
            "Who= [[ 1.61668551 -0.50315082 -0.74354496  1.57038657]]\n",
            "Who= [[ 1.61668551 -0.50315082 -0.74354496  1.57038657]]\n",
            "Who= [[ 1.61668551 -0.50315082 -0.74354496  1.57038657]]\n",
            "Who= [[ 1.61668551 -0.50315082 -0.74354496  1.57038657]]\n",
            "Who= [[ 1.61668551 -0.50315082 -0.74354496  1.57038657]]\n",
            "Who= [[ 1.61668551 -0.50315082 -0.74354496  1.57038657]]\n",
            "Who= [[ 1.61668551 -0.50315082 -0.74354496  1.57038657]]\n",
            "Who= [[ 1.61668551 -0.50315082 -0.74354496  1.57038657]]\n",
            "Who= [[ 1.61668551 -0.50315082 -0.74354496  1.57038657]]\n",
            "Who= [[ 1.61668551 -0.50315082 -0.74354496  1.57038657]]\n",
            "Who= [[ 1.61668551 -0.50315082 -0.74354496  1.57038657]]\n",
            "Who= [[ 1.61668551 -0.50315082 -0.74354496  1.57038657]]\n",
            "Who= [[ 1.61668551 -0.50315082 -0.74354496  1.57038657]]\n",
            "Who= [[ 1.61668551 -0.50315082 -0.74354496  1.57038657]]\n",
            "Who= [[ 1.61668551 -0.50315082 -0.74354496  1.57038657]]\n",
            "Who= [[ 1.61668551 -0.50315082 -0.74354496  1.57038657]]\n",
            "Who= [[ 1.61668551 -0.50315082 -0.74354496  1.57038657]]\n",
            "Who= [[ 1.61668551 -0.50315082 -0.74354496  1.57038657]]\n",
            "Who= [[ 1.61668551 -0.50315082 -0.74354496  1.57038657]]\n",
            "Who= [[ 1.61668551 -0.50315082 -0.74354496  1.57038657]]\n"
          ],
          "name": "stdout"
        },
        {
          "output_type": "display_data",
          "data": {
            "image/png": "[encoded data removed]",
            "text/plain": [
              "<Figure size 432x288 with 1 Axes>"
            ]
          },
          "metadata": {
            "tags": []
          }
        },
        {
          "output_type": "stream",
          "text": [
            "[]\n"
          ],
          "name": "stdout"
        }
      ]
    }
  ]
}