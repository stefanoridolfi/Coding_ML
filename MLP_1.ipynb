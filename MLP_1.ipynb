{
  "nbformat": 4,
  "nbformat_minor": 0,
  "metadata": {
    "colab": {
      "name": "Untitled0.ipynb",
      "provenance": [],
      "include_colab_link": true
    },
    "kernelspec": {
      "name": "python3",
      "display_name": "Python 3"
    }
  },
  "cells": [
    {
      "cell_type": "markdown",
      "metadata": {
        "id": "view-in-github",
        "colab_type": "text"
      },
      "source": [
        "<a href=\"https://colab.research.google.com/github/stefanoridolfi/Coding_ML/blob/master/MLP_1.ipynb\" target=\"_parent\"><img src=\"https://colab.research.google.com/assets/colab-badge.svg\" alt=\"Open In Colab\"/></a>"
      ]
    },
    {
      "cell_type": "code",
      "metadata": {
        "id": "73AuA8XzdsGZ",
        "colab_type": "code",
        "colab": {}
      },
      "source": [
        "import numpy as np\n",
        "@np.vectorize\n",
        "def sigmoid(x):\n",
        "    return 1 / (1 + np.e ** -x)\n",
        "activation_function = sigmoid\n",
        "from scipy.stats import truncnorm\n",
        "def truncated_normal(mean=0, sd=1, low=0, upp=10):\n",
        "    return truncnorm(\n",
        "        (low - mean) / sd, (upp - mean) / sd, loc=mean, scale=sd)\n",
        "class NeuralNetwork:\n",
        "    \n",
        "    def __init__(self, \n",
        "                 no_of_in_nodes, \n",
        "                 no_of_out_nodes, \n",
        "                 no_of_hidden_nodes,\n",
        "                 learning_rate):\n",
        "        self.no_of_in_nodes = no_of_in_nodes\n",
        "        self.no_of_out_nodes = no_of_out_nodes\n",
        "        self.no_of_hidden_nodes = no_of_hidden_nodes\n",
        "        self.learning_rate = learning_rate \n",
        "        self.create_weight_matrices()\n",
        "        \n",
        "    def create_weight_matrices(self):\n",
        "        \"\"\" A method to initialize the weight matrices of the neural network\"\"\"\n",
        "        rad = 1 / np.sqrt(self.no_of_in_nodes)\n",
        "        X = truncated_normal(mean=0, sd=1, low=-rad, upp=rad)\n",
        "        self.weights_in_hidden = X.rvs((self.no_of_hidden_nodes, \n",
        "                                       self.no_of_in_nodes))\n",
        "        \n",
        "        # print matrice pesi input - hidden\n",
        "        #print(\"matrice pesi input - hidden\", self.weights_in_hidden)\n",
        "        X = truncated_normal(mean=0, sd=1, low=-rad, upp=rad)\n",
        "        self.weights_hidden_out = X.rvs((self.no_of_out_nodes, \n",
        "                                        self.no_of_hidden_nodes))\n",
        "        #print(\"tipo di self.weights_in_hidden=\", type(self.weights_in_hidden))\n",
        "        # print matrice pesi hidden-output\n",
        "        #print(\"matrice pesi hidden-output\",self.weights_hidden_out )\n",
        "    def train(self, input_vector, target_vector):\n",
        "        # input_vector and target_vector can be tuple, list or ndarray\n",
        "        #print(\" input_vector originale e tipo\",  input_vector, type( input_vector))\n",
        "        input_vector = np.array(input_vector, ndmin=2).T\n",
        "        #print(\" input_vector dopo arrya e tipo\",  input_vector, type( input_vector))\n",
        "        target_vector = np.array(target_vector, ndmin=2).T\n",
        "        #print(\"input vector\", input_vector.T,\"target vector\",target_vector.T )\n",
        "        #print(\"1111111111111111111111111111111111111111111111111111111111\")\n",
        "        \n",
        "\n",
        "        output_vector1 = np.dot(self.weights_in_hidden, input_vector)\n",
        "        #print(\"tipo di output_vector1=\", type(output_vector1))\n",
        "        output_vector_hidden = activation_function(output_vector1)\n",
        "        #print(\"output_vector1=\", output_vector1.T,\"output_vector_hidden= \", output_vector_hidden.T, \" Calcolo diretta funz. attivazione sigmoide \",(1 / (1 + np.e ** -output_vector1)) )\n",
        "        output_vector2 = np.dot(self.weights_hidden_out, output_vector_hidden)\n",
        "        output_vector_network = activation_function(output_vector2)\n",
        "        \n",
        "        output_errors = target_vector - output_vector_network\n",
        "        # update the weights:\n",
        "        \n",
        "        tmp = output_errors * output_vector_network * (1.0 - output_vector_network)     \n",
        "        \n",
        "        #print(\"tmp = output_errors * output_vector_network * (1.0 - output_vector_network)  =\",tmp, \"output_errors=\",output_errors, \"output_vector_network=\",output_vector_network, \"1.0 - output_vector_network=\", (1.0 - output_vector_network),\"FFFF\")\n",
        "        \n",
        "        tmp = self.learning_rate  * np.dot(tmp, output_vector_hidden.T)\n",
        "        self.weights_hidden_out += tmp\n",
        "        # calculate hidden errors:\n",
        "        hidden_errors = np.dot(self.weights_hidden_out.T, output_errors)\n",
        "        # update the weights:\n",
        "        tmp = hidden_errors * output_vector_hidden * (1.0 - output_vector_hidden)\n",
        "        self.weights_in_hidden += self.learning_rate * np.dot(tmp, input_vector.T)\n",
        "           \n",
        "    \n",
        "    def run(self, input_vector):\n",
        "        # input_vector can be tuple, list or ndarray\n",
        "        input_vector = np.array(input_vector, ndmin=2).T\n",
        "        output_vector = np.dot(self.weights_in_hidden, input_vector)\n",
        "        output_vector = activation_function(output_vector)\n",
        "        \n",
        "        output_vector = np.dot(self.weights_hidden_out, output_vector)\n",
        "        output_vector = activation_function(output_vector)\n",
        "        print(\"output_vector:::\",output_vector)\n",
        "    \n",
        "        return output_vector\n",
        "            "
      ],
      "execution_count": 0,
      "outputs": []
    },
    {
      "cell_type": "code",
      "metadata": {
        "id": "kl4lfcpSdyEZ",
        "colab_type": "code",
        "outputId": "ea16bc93-59e4-46bf-800a-62c7daf71ebd",
        "colab": {
          "base_uri": "https://localhost:8080/",
          "height": 265
        }
      },
      "source": [
        "import numpy as np\n",
        "from matplotlib import pyplot as plt\n",
        "data1 = [((3, 4), (0.99, 0.01)), ((4.2, 5.3), (0.99, 0.01)), \n",
        "         ((4, 3), (0.99, 0.01)), ((6, 5), (0.99, 0.01)), \n",
        "         ((4, 6), (0.99, 0.01)), ((3.7, 5.8), (0.99, 0.01)), \n",
        "         ((3.2, 4.6), (0.99, 0.01)), ((5.2, 5.9), (0.99, 0.01)), \n",
        "         ((5, 4), (0.99, 0.01)), ((7, 4), (0.99, 0.01)), \n",
        "         ((3, 7), (0.99, 0.01)), ((4.3, 4.3), (0.99, 0.01))]\n",
        "data2 = [((-3, -4), (0.01, 0.99)), ((-2, -3.5), (0.01, 0.99)), \n",
        "         ((-1, -6), (0.01, 0.99)), ((-3, -4.3), (0.01, 0.99)), \n",
        "         ((-4, -5.6), (0.01, 0.99)), ((-3.2, -4.8), (0.01, 0.99)), \n",
        "         ((-2.3, -4.3), (0.01, 0.99)), ((-2.7, -2.6), (0.01, 0.99)), \n",
        "         ((-1.5, -3.6), (0.01, 0.99)), ((-3.6, -5.6), (0.01, 0.99)), \n",
        "         ((-4.5, -4.6), (0.01, 0.99)), ((-3.7, -5.8), (0.01, 0.99))]\n",
        "data = data1 + data2\n",
        "np.random.shuffle(data)\n",
        "points1, labels1 = zip(*data1)\n",
        "X, Y = zip(*points1)\n",
        "plt.scatter(X, Y, c=\"r\")\n",
        "points2, labels2 = zip(*data2)\n",
        "X, Y = zip(*points2)\n",
        "plt.scatter(X, Y, c=\"b\")\n",
        "plt.show()"
      ],
      "execution_count": 25,
      "outputs": [
        {
          "output_type": "display_data",
          "data": {
            "image/png": "[encoded data removed]",
            "text/plain": [
              "<Figure size 432x288 with 1 Axes>"
            ]
          },
          "metadata": {
            "tags": []
          }
        }
      ]
    },
    {
      "cell_type": "code",
      "metadata": {
        "colab_type": "code",
        "outputId": "eed1e34a-09ce-4efb-9fd1-f928a1f81bd6",
        "id": "0QvO9zDgeJxG",
        "colab": {
          "base_uri": "https://localhost:8080/",
          "height": 583
        }
      },
      "source": [
        "simple_network = NeuralNetwork(no_of_in_nodes=2, \n",
        "                               no_of_out_nodes=2, \n",
        "                               no_of_hidden_nodes=2,\n",
        "                               learning_rate=0.6)\n",
        "    \n",
        "size_of_learn_sample = int(len(data)*0.9)\n",
        "learn_data = data[:size_of_learn_sample]\n",
        "test_data = data[-size_of_learn_sample:]\n",
        "size_of_test_sample = len(data)-size_of_learn_sample \n",
        "#print(\"__________________________________________________________________\")\n",
        "for i in range(size_of_learn_sample):\n",
        "    point, label = learn_data[i][0], learn_data[i][1]\n",
        "    print(\"point=\", point,\"label=\",label)\n",
        "    simple_network.train(point, label)\n",
        "    \n",
        "for i in range(size_of_test_sample):\n",
        "    point, label = test_data[i][0], test_data[i][1]\n",
        "    cls1, cls2 =simple_network.run(point)\n",
        "    print(point, cls1, cls2, end=\": \")\n",
        "    if cls1 > cls2:\n",
        "        if label == (0.99, 0.01):\n",
        "            print(\"class1 correct\", label)\n",
        "        else:\n",
        "            print(\"class2 incorrect\", label)\n",
        "    else:\n",
        "        if label == (0.01, 0.99):\n",
        "            print(\"class1 correct\", label)\n",
        "        else:\n",
        "            print(\"class2 incorrect\", label)"
      ],
      "execution_count": 26,
      "outputs": [
        {
          "output_type": "stream",
          "text": [
            "point= (4.3, 4.3) label= (0.99, 0.01)\n",
            "point= (-3, -4.3) label= (0.01, 0.99)\n",
            "point= (-2.7, -2.6) label= (0.01, 0.99)\n",
            "point= (-3, -4) label= (0.01, 0.99)\n",
            "point= (-3.6, -5.6) label= (0.01, 0.99)\n",
            "point= (4.2, 5.3) label= (0.99, 0.01)\n",
            "point= (-4.5, -4.6) label= (0.01, 0.99)\n",
            "point= (3, 7) label= (0.99, 0.01)\n",
            "point= (-2, -3.5) label= (0.01, 0.99)\n",
            "point= (5, 4) label= (0.99, 0.01)\n",
            "point= (3.7, 5.8) label= (0.99, 0.01)\n",
            "point= (5.2, 5.9) label= (0.99, 0.01)\n",
            "point= (-1, -6) label= (0.01, 0.99)\n",
            "point= (-3.2, -4.8) label= (0.01, 0.99)\n",
            "point= (-2.3, -4.3) label= (0.01, 0.99)\n",
            "point= (6, 5) label= (0.99, 0.01)\n",
            "point= (4, 3) label= (0.99, 0.01)\n",
            "point= (3.2, 4.6) label= (0.99, 0.01)\n",
            "point= (7, 4) label= (0.99, 0.01)\n",
            "point= (3, 4) label= (0.99, 0.01)\n",
            "point= (-3.7, -5.8) label= (0.01, 0.99)\n",
            "output_vector::: [[0.47039136]\n",
            " [0.74577056]]\n",
            "(-3, -4) [0.47039136] [0.74577056]: class1 correct (0.01, 0.99)\n",
            "output_vector::: [[0.46838841]\n",
            " [0.75083009]]\n",
            "(-3.6, -5.6) [0.46838841] [0.75083009]: class1 correct (0.01, 0.99)\n",
            "output_vector::: [[0.58067583]\n",
            " [0.32544726]]\n",
            "(4.2, 5.3) [0.58067583] [0.32544726]: class1 correct (0.99, 0.01)\n"
          ],
          "name": "stdout"
        }
      ]
    }
  ]
}