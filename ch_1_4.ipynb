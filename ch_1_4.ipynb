{
  "nbformat": 4,
  "nbformat_minor": 0,
  "metadata": {
    "colab": {
      "name": "Untitled9.ipynb",
      "provenance": [],
      "authorship_tag": "ABX9TyMs2rH3XlzLkucA3xbbaWQa",
      "include_colab_link": true
    },
    "kernelspec": {
      "name": "python3",
      "display_name": "Python 3"
    }
  },
  "cells": [
    {
      "cell_type": "markdown",
      "metadata": {
        "id": "view-in-github",
        "colab_type": "text"
      },
      "source": [
        "<a href=\"https://colab.research.google.com/github/stefanoridolfi/Coding_ML/blob/master/ch_1_4.ipynb\" target=\"_parent\"><img src=\"https://colab.research.google.com/assets/colab-badge.svg\" alt=\"Open In Colab\"/></a>"
      ]
    },
    {
      "cell_type": "code",
      "metadata": {
        "id": "npTKEwgjlKnf",
        "colab_type": "code",
        "colab": {
          "base_uri": "https://localhost:8080/",
          "height": 105
        },
        "outputId": "4ff7d3b4-9ab3-454c-9925-9c578c9f8b92"
      },
      "source": [
        "\n",
        "def confusion_matrix(acutal,predicted):\n",
        "    unique=list(set(actual))\n",
        "    matrix=[list() for x in range(len(unique))]\n",
        "    #print(\"matrix definita=\",matrix)\n",
        "    for i in range(len(unique)):\n",
        "            matrix[i]=[0 for x in range(len(unique))]\n",
        "     #       print(\"matrix con tutti zeri\",matrix)\n",
        "    lookup=dict()\n",
        "    for i, value in enumerate(unique):\n",
        "      #  print(\"i=\",i,\"value=\",value)\n",
        "        lookup[value]=i\n",
        "    #print(\"dict lookup riempito=\",lookup)\n",
        "    for i in range(len(actual)):\n",
        "            x=lookup[actual[i]]\n",
        "            y=lookup[predicted[i]]\n",
        "            matrix[y][x]+=1\n",
        "    return unique, matrix\n",
        "\n",
        "def print_confusion_matrix(unique,matrix):\n",
        "  print (\"P\\A  \"+\"  \".join((str(elem)) for elem in unique))\n",
        "  print(\"-------\")\n",
        "  for i in range(len(unique)):\n",
        "    print(str(unique[i]),\"| \",\"  \".join((str(matrix[i][j])) for j in range(len(unique))))\n",
        "\n",
        "predicted=[0,1,1,0,0,1,0,1,1,1,5]\n",
        "actual=[0,0,0,0,0,1,1,1,5,1,5]\n",
        "\n",
        "unique, matrix =confusion_matrix(actual,predicted)\n",
        "print_confusion_matrix(unique,matrix)\n"
      ],
      "execution_count": 14,
      "outputs": [
        {
          "output_type": "stream",
          "text": [
            "P\\A  0  1  5\n",
            "-------\n",
            "0 |  3  1  0\n",
            "1 |  2  3  1\n",
            "5 |  0  0  1\n"
          ],
          "name": "stdout"
        }
      ]
    }
  ]
}